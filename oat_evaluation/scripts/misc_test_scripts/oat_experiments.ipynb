{
 "cells": [
  {
   "cell_type": "code",
   "execution_count": null,
   "metadata": {},
   "outputs": [],
   "source": [
    "from abc import ABC, abstractmethod\n",
    "from enum import Enum\n",
    "from typing import Callable, List, Dict, Any, Optional, Tuple, Union\n",
    "\n",
    "import torch\n",
    "from transformers import AutoModelForCausalLM, AutoTokenizer\n",
    "\n",
    "from oat_evaluation.llms.llm import LLM, ExposedActivationsRequest, LLMResponses, TokenSelectionMethod\n",
    "from oat_evaluation.llms.autollm import AutoLLM\n",
    "from contextlib import contextmanager\n",
    "\n",
    "model_path = \"oat-workers/oat-gemma-apr2-checks/gemma2_lora_oat_generation_linear/lora_model_step_2048\"\n",
    "model = AutoModelForCausalLM.from_pretrained(\n",
    "    # float16 was the default for obfuscated-activations too\n",
    "    model_path, device_map=\"cuda\", torch_dtype=torch.float16\n",
    ")\n",
    "tokenizer = AutoTokenizer.from_pretrained(model_path)\n",
    "\n",
    "#llm = AutoLLM(model_path)\n",
    "\n"
   ]
  },
  {
   "cell_type": "code",
   "execution_count": null,
   "metadata": {},
   "outputs": [],
   "source": [
    "model = AutoModelForCausalLM.from_pretrained(\n",
    "    \"oat-workers/oat-gemma-apr2-checks\",     # repo_id / namespace‑repo\n",
    "    subfolder=\"gemma2_lora_oat_generation_linear/lora_model_step_2048\",\n",
    "    device_map=\"cuda\",\n",
    ")\n",
    "tokenizer = AutoTokenizer.from_pretrained(\n",
    "    \"oat-workers/oat-gemma-apr2-checks\",\n",
    "    subfolder=\"gemma2_lora_oat_generation_linear/lora_model_step_2048\",\n",
    ")"
   ]
  },
  {
   "cell_type": "code",
   "execution_count": null,
   "metadata": {},
   "outputs": [],
   "source": [
    "from transformers import AutoTokenizer, AutoModelForCausalLM\n",
    "from peft import AutoPeftModelForCausalLM\n",
    "\n",
    "\n",
    "model = AutoPeftModelForCausalLM.from_pretrained(\n",
    "    \"oat-workers/oat-gemma-apr2-checks\",     # repo_id / namespace‑repo\n",
    "    subfolder=\"gemma2_lora_oat_generation_linear/lora_model_step_2048\",\n",
    "    device_map=\"cuda\",\n",
    "    base_model_name_or_path=\"/workspace/gemma_2_9b_instruct\",\n",
    ")\n",
    "tokenizer = AutoTokenizer.from_pretrained(\n",
    "    \"oat-workers/oat-gemma-apr2-checks\",\n",
    "    subfolder=\"gemma2_lora_oat_generation_linear/lora_model_step_2048\",\n",
    ")"
   ]
  },
  {
   "cell_type": "code",
   "execution_count": null,
   "metadata": {},
   "outputs": [],
   "source": [
    "import torch\n",
    "from transformers import AutoModelForCausalLM, AutoTokenizer\n",
    "from peft import PeftModel, PeftConfig\n",
    "\n",
    "adapter_id = \"oat-workers/oat-gemma-apr2-checks\"\n",
    "subfolder = \"gemma2_lora_oat_generation_linear/lora_model_step_2048\"\n",
    "base_path = \"/workspace/gemma_2_9b_instruct\" # your local weights path\n",
    "\n",
    "# 1️⃣ Load the base model from the local path\n",
    "print(f\"Loading base model from: {base_path}\")\n",
    "base_model = AutoModelForCausalLM.from_pretrained(\n",
    "    base_path,\n",
    "    device_map=\"auto\",\n",
    "    # Add any other necessary args for the base model, e.g., torch_dtype\n",
    "    # torch_dtype=torch.bfloat16 # Example if needed\n",
    ")\n",
    "print(\"Base model loaded.\")\n",
    "\n",
    "# 2️⃣ Load the tokenizer from the base model's path (or adapter if it has one)\n",
    "# Usually safer to load from the base model path\n",
    "tokenizer = AutoTokenizer.from_pretrained(base_path)\n",
    "print(\"Tokenizer loaded.\")\n",
    "\n",
    "# 3️⃣ Load the PEFT adapter onto the loaded base model\n",
    "print(f\"Loading adapter '{adapter_id}' subfolder '{subfolder}' onto the base model...\")\n",
    "# No need to load PeftConfig separately here unless you need info from it beforehand\n",
    "model = PeftModel.from_pretrained(\n",
    "    base_model,                 # Pass the loaded base model object\n",
    "    adapter_id,                 # The adapter ID on the Hub\n",
    "    subfolder=subfolder,        # Specify the subfolder containing the adapter\n",
    "    # device_map is usually inferred from the base model, but can be specified if needed\n",
    ")\n",
    "print(\"PEFT Adapter loaded and merged.\")\n",
    "\n",
    "# Now 'model' is the merged model ready for use\n",
    "# You can proceed with inference or further training\n",
    "\n",
    "# Example: Check model device placement\n",
    "# print(model.device)\n",
    "# print(model.hf_device_map)"
   ]
  },
  {
   "cell_type": "code",
   "execution_count": 1,
   "metadata": {},
   "outputs": [
    {
     "name": "stderr",
     "output_type": "stream",
     "text": [
      "/workspace/GIT_SHENANIGANS/oat-2025/.venv2025/lib/python3.10/site-packages/tqdm/auto.py:21: TqdmWarning: IProgress not found. Please update jupyter and ipywidgets. See https://ipywidgets.readthedocs.io/en/stable/user_install.html\n",
      "  from .autonotebook import tqdm as notebook_tqdm\n"
     ]
    },
    {
     "name": "stdout",
     "output_type": "stream",
     "text": [
      "Loading base model from: /workspace/gemma_2_9b_instruct\n",
      "Loading model from /workspace/gemma_2_9b_instruct...\n"
     ]
    },
    {
     "name": "stderr",
     "output_type": "stream",
     "text": [
      "Loading checkpoint shards: 100%|██████████| 4/4 [00:39<00:00,  9.75s/it]\n"
     ]
    },
    {
     "ename": "AttributeError",
     "evalue": "can't set attribute 'dtype'",
     "output_type": "error",
     "traceback": [
      "\u001b[0;31m---------------------------------------------------------------------------\u001b[0m",
      "\u001b[0;31mAttributeError\u001b[0m                            Traceback (most recent call last)",
      "Cell \u001b[0;32mIn[1], line 8\u001b[0m\n\u001b[1;32m      5\u001b[0m subfolder \u001b[38;5;241m=\u001b[39m \u001b[38;5;124m\"\u001b[39m\u001b[38;5;124mgemma2_lora_oat_generation_linear/lora_model_step_2048\u001b[39m\u001b[38;5;124m\"\u001b[39m\n\u001b[1;32m      6\u001b[0m base_path \u001b[38;5;241m=\u001b[39m \u001b[38;5;124m\"\u001b[39m\u001b[38;5;124m/workspace/gemma_2_9b_instruct\u001b[39m\u001b[38;5;124m\"\u001b[39m \u001b[38;5;66;03m# your local weights path\u001b[39;00m\n\u001b[0;32m----> 8\u001b[0m llm \u001b[38;5;241m=\u001b[39m \u001b[43mAutoPEFT\u001b[49m\u001b[43m(\u001b[49m\u001b[43mbase_path\u001b[49m\u001b[43m,\u001b[49m\u001b[43m \u001b[49m\u001b[43madapter_id\u001b[49m\u001b[43m,\u001b[49m\u001b[43m \u001b[49m\u001b[43msubfolder\u001b[49m\u001b[43m)\u001b[49m\n",
      "File \u001b[0;32m/workspace/GIT_SHENANIGANS/oat-2025/oat_evaluation/llms/autopeft.py:10\u001b[0m, in \u001b[0;36mAutoPEFT.__init__\u001b[0;34m(self, base_model_path, adapter_id, subfolder, dtype, debug_mode)\u001b[0m\n\u001b[1;32m      8\u001b[0m \u001b[38;5;28;01mdef\u001b[39;00m\u001b[38;5;250m \u001b[39m\u001b[38;5;21m__init__\u001b[39m(\u001b[38;5;28mself\u001b[39m, base_model_path, adapter_id, subfolder, dtype\u001b[38;5;241m=\u001b[39mtorch\u001b[38;5;241m.\u001b[39mbfloat16, debug_mode\u001b[38;5;241m=\u001b[39m\u001b[38;5;28;01mFalse\u001b[39;00m):\n\u001b[1;32m      9\u001b[0m     \u001b[38;5;28mprint\u001b[39m(\u001b[38;5;124mf\u001b[39m\u001b[38;5;124m\"\u001b[39m\u001b[38;5;124mLoading base model from: \u001b[39m\u001b[38;5;132;01m{\u001b[39;00mbase_model_path\u001b[38;5;132;01m}\u001b[39;00m\u001b[38;5;124m\"\u001b[39m)\n\u001b[0;32m---> 10\u001b[0m     \u001b[38;5;28;43msuper\u001b[39;49m\u001b[43m(\u001b[49m\u001b[43m)\u001b[49m\u001b[38;5;241;43m.\u001b[39;49m\u001b[38;5;21;43m__init__\u001b[39;49m\u001b[43m(\u001b[49m\u001b[43mbase_model_path\u001b[49m\u001b[43m,\u001b[49m\u001b[43m \u001b[49m\u001b[43mdtype\u001b[49m\u001b[43m,\u001b[49m\u001b[43m \u001b[49m\u001b[43mdebug_mode\u001b[49m\u001b[43m)\u001b[49m\n\u001b[1;32m     11\u001b[0m     \u001b[38;5;28mprint\u001b[39m(\u001b[38;5;124m\"\u001b[39m\u001b[38;5;124mBase model loaded.\u001b[39m\u001b[38;5;124m\"\u001b[39m)\n\u001b[1;32m     13\u001b[0m     \u001b[38;5;28mprint\u001b[39m(\u001b[38;5;124mf\u001b[39m\u001b[38;5;124m\"\u001b[39m\u001b[38;5;124mLoading adapter \u001b[39m\u001b[38;5;124m'\u001b[39m\u001b[38;5;132;01m{\u001b[39;00madapter_id\u001b[38;5;132;01m}\u001b[39;00m\u001b[38;5;124m'\u001b[39m\u001b[38;5;124m subfolder \u001b[39m\u001b[38;5;124m'\u001b[39m\u001b[38;5;132;01m{\u001b[39;00msubfolder\u001b[38;5;132;01m}\u001b[39;00m\u001b[38;5;124m'\u001b[39m\u001b[38;5;124m onto the base model...\u001b[39m\u001b[38;5;124m\"\u001b[39m)\n",
      "File \u001b[0;32m/workspace/GIT_SHENANIGANS/oat-2025/oat_evaluation/llms/autollm.py:34\u001b[0m, in \u001b[0;36mAutoLLM.__init__\u001b[0;34m(self, model_path, dtype, debug_mode)\u001b[0m\n\u001b[1;32m     29\u001b[0m \u001b[38;5;28mprint\u001b[39m(\u001b[38;5;124mf\u001b[39m\u001b[38;5;124m\"\u001b[39m\u001b[38;5;124mLoading model from \u001b[39m\u001b[38;5;132;01m{\u001b[39;00mmodel_path\u001b[38;5;132;01m}\u001b[39;00m\u001b[38;5;124m...\u001b[39m\u001b[38;5;124m\"\u001b[39m)\n\u001b[1;32m     31\u001b[0m \u001b[38;5;28mself\u001b[39m\u001b[38;5;241m.\u001b[39m_model \u001b[38;5;241m=\u001b[39m AutoModelForCausalLM\u001b[38;5;241m.\u001b[39mfrom_pretrained(\n\u001b[1;32m     32\u001b[0m     model_path, device_map\u001b[38;5;241m=\u001b[39m\u001b[38;5;124m\"\u001b[39m\u001b[38;5;124mcuda\u001b[39m\u001b[38;5;124m\"\u001b[39m, torch_dtype\u001b[38;5;241m=\u001b[39mdtype\n\u001b[1;32m     33\u001b[0m )\n\u001b[0;32m---> 34\u001b[0m \u001b[38;5;28;43mself\u001b[39;49m\u001b[38;5;241;43m.\u001b[39;49m\u001b[43mdtype\u001b[49m \u001b[38;5;241m=\u001b[39m dtype\n\u001b[1;32m     35\u001b[0m \u001b[38;5;28mself\u001b[39m\u001b[38;5;241m.\u001b[39m_tokenizer \u001b[38;5;241m=\u001b[39m AutoTokenizer\u001b[38;5;241m.\u001b[39mfrom_pretrained(model_path)\n\u001b[1;32m     37\u001b[0m \u001b[38;5;28mself\u001b[39m\u001b[38;5;241m.\u001b[39mprepare_model()\n",
      "\u001b[0;31mAttributeError\u001b[0m: can't set attribute 'dtype'"
     ]
    },
    {
     "ename": "",
     "evalue": "",
     "output_type": "error",
     "traceback": [
      "\u001b[1;31mThe Kernel crashed while executing code in the current cell or a previous cell. \n",
      "\u001b[1;31mPlease review the code in the cell(s) to identify a possible cause of the failure. \n",
      "\u001b[1;31mClick <a href='https://aka.ms/vscodeJupyterKernelCrash'>here</a> for more info. \n",
      "\u001b[1;31mView Jupyter <a href='command:jupyter.viewOutput'>log</a> for further details."
     ]
    }
   ],
   "source": [
    "from oat_evaluation.llms.autopeft import AutoPEFT\n",
    "\n",
    "\n",
    "adapter_id = \"oat-workers/oat-gemma-apr2-checks\"\n",
    "subfolder = \"gemma2_lora_oat_generation_linear/lora_model_step_2048\"\n",
    "base_path = \"/workspace/gemma_2_9b_instruct\" # your local weights path\n",
    "\n",
    "llm = AutoPEFT(base_path, adapter_id, subfolder)\n",
    "\n"
   ]
  }
 ],
 "metadata": {
  "kernelspec": {
   "display_name": ".venv2025",
   "language": "python",
   "name": "python3"
  },
  "language_info": {
   "codemirror_mode": {
    "name": "ipython",
    "version": 3
   },
   "file_extension": ".py",
   "mimetype": "text/x-python",
   "name": "python",
   "nbconvert_exporter": "python",
   "pygments_lexer": "ipython3",
   "version": "3.10.12"
  }
 },
 "nbformat": 4,
 "nbformat_minor": 2
}
